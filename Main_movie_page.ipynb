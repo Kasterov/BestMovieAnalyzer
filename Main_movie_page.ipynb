{
 "cells": [
  {
   "cell_type": "code",
   "execution_count": null,
   "id": "b95bd807",
   "metadata": {},
   "outputs": [],
   "source": [
    "import pandas as pd\n",
    "movie_df_all = pd.read_csv('imdb_top250_movies.csv') \n",
    "movie_df = movie_df_all.drop(columns = 'Website')"
   ]
  },
  {
   "cell_type": "code",
   "execution_count": null,
   "id": "a57d998c",
   "metadata": {},
   "outputs": [],
   "source": []
  }
 ],
 "metadata": {
  "kernelspec": {
   "display_name": "Python 3.10.8 64-bit",
   "language": "python",
   "name": "python3"
  },
  "language_info": {
   "codemirror_mode": {
    "name": "ipython",
    "version": 3
   },
   "file_extension": ".py",
   "mimetype": "text/x-python",
   "name": "python",
   "nbconvert_exporter": "python",
   "pygments_lexer": "ipython3",
   "version": "3.10.8"
  },
  "vscode": {
   "interpreter": {
    "hash": "bf70c2be34cefc8925ac37ac24c67051bedf097ccd73ad491733282b57292c88"
   }
  }
 },
 "nbformat": 4,
 "nbformat_minor": 5
}
